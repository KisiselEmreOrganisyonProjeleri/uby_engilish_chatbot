{
 "cells": [
  {
   "cell_type": "code",
   "execution_count": 2,
   "metadata": {},
   "outputs": [
    {
     "name": "stdout",
     "output_type": "stream",
     "text": [
      "\n",
      "A1.xlsx - Eski sütun adları: ['terms', 'turkce1', 'turkce2', 'Unnamed: 3']\n",
      "A1.xlsx - Yeni sütun adları: ['terms', 'turkce1', 'turkce2', 'Unnamed: 3']\n",
      "A1.xlsx başarıyla güncellendi.\n",
      "\n",
      "A2.xlsx - Eski sütun adları: ['terms', 'turkce1', 'turkce2']\n",
      "A2.xlsx - Yeni sütun adları: ['terms', 'turkce1', 'turkce2']\n",
      "A2.xlsx başarıyla güncellendi.\n",
      "\n",
      "B1.xlsx - Eski sütun adları: ['terms', 'turkce1', 'turkce2']\n",
      "B1.xlsx - Yeni sütun adları: ['terms', 'turkce1', 'turkce2']\n",
      "B1.xlsx başarıyla güncellendi.\n",
      "\n",
      "B2.xlsx - Eski sütun adları: ['terms', 'turkce1', 'turkce2']\n",
      "B2.xlsx - Yeni sütun adları: ['terms', 'turkce1', 'turkce2']\n",
      "B2.xlsx başarıyla güncellendi.\n",
      "\n",
      "C1.xlsx - Eski sütun adları: ['terms', 'turkce1', 'turkce2']\n",
      "C1.xlsx - Yeni sütun adları: ['terms', 'turkce1', 'turkce2']\n",
      "C1.xlsx başarıyla güncellendi.\n",
      "\n",
      "C2.xlsx - Eski sütun adları: ['terms', 'turkce1', 'turkce2']\n",
      "C2.xlsx - Yeni sütun adları: ['terms', 'turkce1', 'turkce2']\n",
      "C2.xlsx başarıyla güncellendi.\n"
     ]
    }
   ],
   "source": [
    "import pandas as pd\n",
    "import os\n",
    "\n",
    "excel_files = [\"A1.xlsx\", \"A2.xlsx\", \"B1.xlsx\", \"B2.xlsx\", \"C1.xlsx\", \"C2.xlsx\"]\n",
    "\n",
    "for file in excel_files:\n",
    "    if not os.path.exists(file):\n",
    "        print(f\"{file} bulunamadı, atlanıyor.\")\n",
    "        continue\n",
    "\n",
    "    df = pd.read_excel(file)\n",
    "    # Sütun adlarını göster\n",
    "    print(f\"\\n{file} - Eski sütun adları: {list(df.columns)}\")\n",
    "\n",
    "    # Eğer ilk satırda başlık yoksa, ilk satırı başlık olarak kullan\n",
    "    # ve DataFrame'i yeniden oluştur\n",
    "    if \"Unnamed: 0\" in df.columns or df.columns[0].startswith((\"A\", \"B\", \"C\")):\n",
    "        # İlk satırı başlık olarak al\n",
    "        new_header = df.iloc[0]\n",
    "        df = df[1:]\n",
    "        df.columns = new_header\n",
    "        df.reset_index(drop=True, inplace=True)\n",
    "        print(f\"{file} - İlk satır başlık olarak alındı.\")\n",
    "\n",
    "    # Şimdi sütun adlarını normalize et\n",
    "    columns = list(df.columns)\n",
    "    if len(columns) >= 3:\n",
    "        df = df.rename(columns={\n",
    "            columns[0]: \"terms\",\n",
    "            columns[1]: \"turkce1\",\n",
    "            columns[2]: \"turkce2\"\n",
    "        })\n",
    "        print(f\"{file} - Yeni sütun adları: {list(df.columns)}\")\n",
    "        # Dosyayı üzerine kaydet\n",
    "        df.to_excel(file, index=False)\n",
    "        print(f\"{file} başarıyla güncellendi.\")\n",
    "    else:\n",
    "        print(f\"{file} - Beklenen sütun sayısı yok, atlanıyor.\")"
   ]
  }
 ],
 "metadata": {
  "kernelspec": {
   "display_name": "sanal_ortam",
   "language": "python",
   "name": "python3"
  },
  "language_info": {
   "codemirror_mode": {
    "name": "ipython",
    "version": 3
   },
   "file_extension": ".py",
   "mimetype": "text/x-python",
   "name": "python",
   "nbconvert_exporter": "python",
   "pygments_lexer": "ipython3",
   "version": "3.12.1"
  }
 },
 "nbformat": 4,
 "nbformat_minor": 2
}
